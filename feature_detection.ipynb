{
 "nbformat": 4,
 "nbformat_minor": 2,
 "metadata": {
  "language_info": {
   "name": "python",
   "codemirror_mode": {
    "name": "ipython",
    "version": 3
   },
   "version": "3.7.4-final"
  },
  "orig_nbformat": 2,
  "file_extension": ".py",
  "mimetype": "text/x-python",
  "name": "python",
  "npconvert_exporter": "python",
  "pygments_lexer": "ipython3",
  "version": 3,
  "kernelspec": {
   "name": "python37432bit6d39c9f12eea4063bda238aa1c940994",
   "display_name": "Python 3.7.4 32-bit"
  }
 },
 "cells": [
  {
   "cell_type": "markdown",
   "execution_count": null,
   "metadata": {},
   "outputs": [],
   "source": [
    "<h2>Imports</h2>"
   ]
  },
  {
   "cell_type": "code",
   "execution_count": 2,
   "metadata": {},
   "outputs": [],
   "source": [
    "import cv2 as cv\n",
    "import numpy as np\n",
    "from matplotlib import pyplot as plt\n",
    "from glob import glob"
   ]
  },
  {
   "cell_type": "markdown",
   "execution_count": null,
   "metadata": {},
   "outputs": [],
   "source": [
    "<h2>Utils"
   ]
  },
  {
   "cell_type": "code",
   "execution_count": 3,
   "metadata": {},
   "outputs": [],
   "source": [
    "def show_images(images,titles=None):\n",
    "    #This function is used to show image(s) with titles by sending an array of images and an array of associated titles.\n",
    "    # images[0] will be drawn with the title titles[0] if exists\n",
    "    # You aren't required to understand this function, use it as-is.\n",
    "    n_ims = len(images)\n",
    "    if titles is None: titles = ['(%d)' % i for i in range(1,n_ims + 1)]\n",
    "    fig = plt.figure()\n",
    "    n = 1\n",
    "    for image,title in zip(images,titles):\n",
    "        a = fig.add_subplot(1,n_ims,n)\n",
    "        if image.ndim == 2: \n",
    "            plt.gray()\n",
    "        plt.imshow(image)\n",
    "        a.set_title(title)\n",
    "        n += 1\n",
    "    fig.set_size_inches(np.array(fig.get_size_inches()) * n_ims)\n",
    "    plt.show()"
   ]
  },
  {
   "cell_type": "markdown",
   "execution_count": null,
   "metadata": {},
   "outputs": [],
   "source": [
    "<h2>Constants</h2>"
   ]
  },
  {
   "cell_type": "code",
   "execution_count": 4,
   "metadata": {},
   "outputs": [],
   "source": [
    "datasetPath = \"Data/dinoSparseRing/*.png\"\n",
    "ß1 = 2\n",
    "ß2 = 32  \n",
    "# We associate with p a reference image R(p),the images S(p) where p should be visible and the images T(p) where it is truly found  \n",
    "patchModel = {\n",
    "    \"R\":None,\n",
    "    \"S\":set,\n",
    "    \"T\":set\n",
    "}\n",
    "# The cell C(i, j) keeps track of two different sets Qt(i, j) and Qf(i, j)\n",
    "cell = {\n",
    "    \"Qt\":set,\n",
    "    \"Qf\":set\n",
    "}\n",
    "# We associate with each image I a regular grid of β1×β1 pixel^2 cells\n",
    "imageModel = {\n",
    "    \"img\":np.ndarray,\n",
    "    \"grid\":np.ndarray\n",
    "}"
   ]
  },
  {
   "cell_type": "markdown",
   "execution_count": null,
   "metadata": {},
   "outputs": [],
   "source": [
    "<h2>Get Input"
   ]
  },
  {
   "cell_type": "code",
   "execution_count": 5,
   "metadata": {},
   "outputs": [],
   "source": [
    "# Initialize image model from a given path\n",
    "def init_imgs(datasetPath):\n",
    "    # Read imgs\n",
    "    imgs = [cv.rotate(cv.imread(file),cv.ROTATE_90_COUNTERCLOCKWISE) for file in glob(datasetPath)]\n",
    "    # imgs = [cv.rotate(img,cv.ROTATE_90_COUNTERCLOCKWISE) for img in imgs]\n",
    "\n",
    "    # Construct corresponding image grid\n",
    "    grids = [np.array([np.array([cell for x in range(0,img.shape[1]//ß1)]) for y in range(0,img.shape[0]//ß1)]) for img in imgs]\n",
    "\n",
    "    # print('images count:',len(imgs))\n",
    "    # print('grids count:',len(grids))\n",
    "    # print('image size:',imgs[0].shape)\n",
    "    # print('grid size:',grids[0].shape)\n",
    "\n",
    "    return imgs,grids"
   ]
  },
  {
   "cell_type": "markdown",
   "execution_count": null,
   "metadata": {},
   "outputs": [],
   "source": [
    "<h2>Feature Detection"
   ]
  },
  {
   "cell_type": "code",
   "execution_count": 6,
   "metadata": {},
   "outputs": [],
   "source": [
    "# Get Harris and DoG operators for a given image\n",
    "def get_harris_dog(img):\n",
    "    gray = cv.cvtColor(img,cv.COLOR_BGR2GRAY)\n",
    "    gray = np.float32(gray)\n",
    "    \n",
    "    '''\n",
    "    To ensure uniform coverage, we lay over each image a coarse regular grid of\n",
    "    ß2×ß2 pixel2 cells, and return as corners and blobs for each\n",
    "    cell the η local maxima of the two operators with strongest\n",
    "    responses (we use ß2 = 32 and η = 4 in all our experiments).\n",
    "    '''\n",
    "\n",
    "    # cells = np.zeros((gray.shape[0])//ß2,gray.shape[1])//ß2))\n",
    "    # for vInc in range(0,gray.shape[0]-31):\n",
    "    #     for hInc in range(0,gray.shape[0]-31):\n",
    "    #         g1 = cv.GaussianBlur(gray[vInc:vInc+31][hInc:hInc+31],(0,0),sigmaX=1)\n",
    "    #         g2 = cv.GaussianBlur(gray[vInc:vInc+31][hInc:hInc+31],(0,0),sigmaX=np.sqrt(2))\n",
    "    #         diff = cv.absdiff(g1,g2)\n",
    "    #         # dog = dog*(np.max(dog)/255)\n",
    "    #         dog1 = diff * gray[vInc:vInc+31][hInc:hInc+31]\n",
    "    #         g1 = cv.GaussianBlur(gray[vInc:vInc+31][hInc:hInc+31],(0,0),sigmaX=1)\n",
    "    #         g2 = cv.GaussianBlur(gray[vInc:vInc+31][hInc:hInc+31],(0,0),sigmaX=np.sqrt(2))\n",
    "    #         diff = cv.absdiff(g1,g2)\n",
    "    #         # dog = dog*(np.max(dog)/255)\n",
    "    #         dog2 = diff * gray[vInc:vInc+31][hInc:hInc+31]\n",
    "    #         g1 = cv.GaussianBlur(gray[vInc:vInc+31][hInc:hInc+31],(0,0),sigmaX=1)\n",
    "    #         g2 = cv.GaussianBlur(gray[vInc:vInc+31][hInc:hInc+31],(0,0),sigmaX=np.sqrt(2))\n",
    "    #         diff = cv.absdiff(g1,g2)\n",
    "    #         # dog = dog*(np.max(dog)/255)\n",
    "    #         dog3 = diff * gray[vInc:vInc+31][hInc:hInc+31]\n",
    "    #         g1 = cv.GaussianBlur(gray[vInc:vInc+31][hInc:hInc+31],(0,0),sigmaX=1)\n",
    "    #         g2 = cv.GaussianBlur(gray[vInc:vInc+31][hInc:hInc+31],(0,0),sigmaX=np.sqrt(2))\n",
    "    #         diff = cv.absdiff(g1,g2)\n",
    "    #         # dog = dog*(np.max(dog)/255)\n",
    "    #         dog4 = diff * gray[vInc:vInc+31][hInc:hInc+31]\n",
    "    #         for i in range(dog1.shape[0]):\n",
    "    #             for j in range(dog1.shape[1]):\n",
    "    #                 if(dog1[i][j] != dog2[i][j] and dog1[i][j] != dog3[i][j] and dog1[i][j] != dog4[i][j] and dog2[i][j] != dog3[i][j] and dog2[i][j] != dog4[i][j] and dog3[i][j] != dog4[i][j]):\n",
    "    #                     print(\"DIFFFF\")\n",
    "    #         return\n",
    "            \n",
    "    # Get DoG\n",
    "    g1 = cv.GaussianBlur(gray,(0,0),sigmaX=1)\n",
    "    g2 = cv.GaussianBlur(gray,(0,0),sigmaX=1*np.sqrt(2))\n",
    "    diff = cv.absdiff(g1,g2)\n",
    "    # dog = dog*(np.max(dog)/255)\n",
    "    dog = diff * gray\n",
    "\n",
    "    # Get Harris\n",
    "    bSize = 3\n",
    "    kSize = 1\n",
    "    corners = cv.cornerHarris(src=gray,blockSize=bSize,ksize=kSize,k=0.06)\n",
    "    corners = cv.dilate(corners,None)\n",
    "    img[corners>0.01*corners.max()] = [0,0,255]\n",
    "\n",
    "    show_images([img,diff,dog],['detected corners blockSize='+str(bSize)+' ksize='+str(kSize),'dog before multiplication of img','dog after multiplication of img'])\n",
    "    \n",
    "    return dog , corners"
   ]
  },
  {
   "cell_type": "code",
   "execution_count": 6,
   "metadata": {},
   "outputs": [],
   "source": [
    "images,grids = init_imgs(datasetPath)\n",
    "imagesFeatures = []\n",
    "for idx,image in enumerate(images):\n",
    "    dog,harris = get_harris_dog(image)\n",
    "    imagesFeatures.append(\n",
    "        {\n",
    "            \"image\":images[idx],\n",
    "            \"grid\":grids[idx],\n",
    "            \"dog\":dog,\n",
    "            \"harris\":harris\n",
    "        }\n",
    "    )"
   ]
  },
  {
   "cell_type": "markdown",
   "execution_count": null,
   "metadata": {},
   "outputs": [],
   "source": [
    "<h2>Trangulation"
   ]
  },
  {
   "cell_type": "code",
   "execution_count": 36,
   "metadata": {},
   "outputs": [
    {
     "name": "stdout",
     "output_type": "stream",
     "text": "[[ 0.01782972]\n [ 0.6826026 ]\n [-0.72965467]\n [-0.03660343]]\n"
    }
   ],
   "source": [
    "P1 = np.float32(np.array([\n",
    "    [-0.14396457836077139000, 0.96965263281337499000, 0.19760617153779569000, -0.90366580603479685000],[-0.04743335255026152200, -0.42560419233334673000, -0.40331536459778505000, -0.23984130575212276000],[0.88306936201487163000, -0.010415508744, -0.0294278883669, 0.673097816109]\n",
    "]))\n",
    "\n",
    "P2 = np.float32(np.array([\n",
    "    [-0.23143687262851170000, 0.96422332027030622000, 0.12926937165558827000, -0.65860811165749811000],[-0.05749426020475298400, -0.75028640486482034000, -0.71601208187197274000, -0.25878137856376976000],[0.64835049619606955000, -0.0143392676288,-0.0315356332107, 0.659314086504]\n",
    "]))\n",
    "\n",
    "p1 = np.float32([100,6])\n",
    "p2 = np.float32([900,9])\n",
    "\n",
    "print(cv.triangulatePoints(P1,P2,p1,p2))\n",
    "# F = [\n",
    "#     [3310.400000, 0.000000, 316.730000],\n",
    "#     [0.000000, 3325.500000, 200.550000],\n",
    "#     [0.000000, 0.000000, 1.000000]\n",
    "# ]\n",
    "# F = np.array(F)\n",
    "\n",
    "# p1 = (5,6,1)\n",
    "# p2 = (10,9,1)\n",
    "\n",
    "# T1 = [\n",
    "#     [1,0,-p1[0]],\n",
    "#     [0,1,-p1[1]],\n",
    "#     [0,0,1]\n",
    "# ]\n",
    "# T2 = [\n",
    "#     [1,0,-p2[0]],\n",
    "#     [0,1,-p2[1]],\n",
    "#     [0,0,1]\n",
    "# ]\n",
    "\n",
    "# T2 = np.array(T2)\n",
    "# T1 = np.array(T1)\n",
    "# F = np.transpose(np.linalg.inv(T2))*F*np.linalg.inv(T1)\n",
    "\n",
    "# plt.subplot(221)\n",
    "# plt.scatter([p1[0]],[p1[1]],color='red')\n",
    "# plt.subplot(222)\n",
    "# plt.scatter([p2[0]],[p2[1]],color='red')"
   ]
  },
  {
   "cell_type": "code",
   "execution_count": null,
   "metadata": {},
   "outputs": [],
   "source": []
  }
 ]
}